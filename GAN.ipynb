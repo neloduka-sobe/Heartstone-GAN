{
 "cells": [
  {
   "cell_type": "markdown",
   "id": "95eaafeb-634b-403c-a57f-4a2df6b98ad9",
   "metadata": {},
   "source": [
    "# Heartstone Deep Convolutional Generative Adversarial Network\n",
    "by [Borys Łangowicz](https://www.linkedin.com/in/borys-langowicz/) ([neloduka_sobe](https://github.com/neloduka-sobe))"
   ]
  },
  {
   "cell_type": "markdown",
   "id": "ae6da09e-8ea3-462e-a119-bdb211c13e67",
   "metadata": {},
   "source": [
    "## Setup and Imports"
   ]
  },
  {
   "cell_type": "code",
   "execution_count": 18,
   "id": "2488d58a-9cf9-45fa-ba31-1f4b7a730ed3",
   "metadata": {
    "tags": []
   },
   "outputs": [
    {
     "name": "stdout",
     "output_type": "stream",
     "text": [
      "Requirement already satisfied: torch in /home/neloduka_sobe/anaconda3/lib/python3.11/site-packages (from -r requirements.txt (line 1)) (2.3.0)\n",
      "Requirement already satisfied: datasets in /home/neloduka_sobe/anaconda3/lib/python3.11/site-packages (from -r requirements.txt (line 2)) (2.12.0)\n",
      "Requirement already satisfied: filelock in /home/neloduka_sobe/anaconda3/lib/python3.11/site-packages (from torch->-r requirements.txt (line 1)) (3.9.0)\n",
      "Requirement already satisfied: typing-extensions>=4.8.0 in /home/neloduka_sobe/anaconda3/lib/python3.11/site-packages (from torch->-r requirements.txt (line 1)) (4.11.0)\n",
      "Requirement already satisfied: sympy in /home/neloduka_sobe/anaconda3/lib/python3.11/site-packages (from torch->-r requirements.txt (line 1)) (1.11.1)\n",
      "Requirement already satisfied: networkx in /home/neloduka_sobe/anaconda3/lib/python3.11/site-packages (from torch->-r requirements.txt (line 1)) (3.1)\n",
      "Requirement already satisfied: jinja2 in /home/neloduka_sobe/anaconda3/lib/python3.11/site-packages (from torch->-r requirements.txt (line 1)) (3.1.2)\n",
      "Requirement already satisfied: fsspec in /home/neloduka_sobe/anaconda3/lib/python3.11/site-packages (from torch->-r requirements.txt (line 1)) (2023.4.0)\n",
      "Requirement already satisfied: nvidia-cuda-nvrtc-cu12==12.1.105 in /home/neloduka_sobe/anaconda3/lib/python3.11/site-packages (from torch->-r requirements.txt (line 1)) (12.1.105)\n",
      "Requirement already satisfied: nvidia-cuda-runtime-cu12==12.1.105 in /home/neloduka_sobe/anaconda3/lib/python3.11/site-packages (from torch->-r requirements.txt (line 1)) (12.1.105)\n",
      "Requirement already satisfied: nvidia-cuda-cupti-cu12==12.1.105 in /home/neloduka_sobe/anaconda3/lib/python3.11/site-packages (from torch->-r requirements.txt (line 1)) (12.1.105)\n",
      "Requirement already satisfied: nvidia-cudnn-cu12==8.9.2.26 in /home/neloduka_sobe/anaconda3/lib/python3.11/site-packages (from torch->-r requirements.txt (line 1)) (8.9.2.26)\n",
      "Requirement already satisfied: nvidia-cublas-cu12==12.1.3.1 in /home/neloduka_sobe/anaconda3/lib/python3.11/site-packages (from torch->-r requirements.txt (line 1)) (12.1.3.1)\n",
      "Requirement already satisfied: nvidia-cufft-cu12==11.0.2.54 in /home/neloduka_sobe/anaconda3/lib/python3.11/site-packages (from torch->-r requirements.txt (line 1)) (11.0.2.54)\n",
      "Requirement already satisfied: nvidia-curand-cu12==10.3.2.106 in /home/neloduka_sobe/anaconda3/lib/python3.11/site-packages (from torch->-r requirements.txt (line 1)) (10.3.2.106)\n",
      "Requirement already satisfied: nvidia-cusolver-cu12==11.4.5.107 in /home/neloduka_sobe/anaconda3/lib/python3.11/site-packages (from torch->-r requirements.txt (line 1)) (11.4.5.107)\n",
      "Requirement already satisfied: nvidia-cusparse-cu12==12.1.0.106 in /home/neloduka_sobe/anaconda3/lib/python3.11/site-packages (from torch->-r requirements.txt (line 1)) (12.1.0.106)\n",
      "Requirement already satisfied: nvidia-nccl-cu12==2.20.5 in /home/neloduka_sobe/anaconda3/lib/python3.11/site-packages (from torch->-r requirements.txt (line 1)) (2.20.5)\n",
      "Requirement already satisfied: nvidia-nvtx-cu12==12.1.105 in /home/neloduka_sobe/anaconda3/lib/python3.11/site-packages (from torch->-r requirements.txt (line 1)) (12.1.105)\n",
      "Requirement already satisfied: triton==2.3.0 in /home/neloduka_sobe/anaconda3/lib/python3.11/site-packages (from torch->-r requirements.txt (line 1)) (2.3.0)\n",
      "Requirement already satisfied: nvidia-nvjitlink-cu12 in /home/neloduka_sobe/anaconda3/lib/python3.11/site-packages (from nvidia-cusolver-cu12==11.4.5.107->torch->-r requirements.txt (line 1)) (12.2.140)\n",
      "Requirement already satisfied: numpy>=1.17 in /home/neloduka_sobe/anaconda3/lib/python3.11/site-packages (from datasets->-r requirements.txt (line 2)) (1.24.3)\n",
      "Requirement already satisfied: pyarrow>=8.0.0 in /home/neloduka_sobe/anaconda3/lib/python3.11/site-packages (from datasets->-r requirements.txt (line 2)) (11.0.0)\n",
      "Requirement already satisfied: dill<0.3.7,>=0.3.0 in /home/neloduka_sobe/anaconda3/lib/python3.11/site-packages (from datasets->-r requirements.txt (line 2)) (0.3.6)\n",
      "Requirement already satisfied: pandas in /home/neloduka_sobe/anaconda3/lib/python3.11/site-packages (from datasets->-r requirements.txt (line 2)) (2.0.3)\n",
      "Requirement already satisfied: requests>=2.19.0 in /home/neloduka_sobe/anaconda3/lib/python3.11/site-packages (from datasets->-r requirements.txt (line 2)) (2.31.0)\n",
      "Requirement already satisfied: tqdm>=4.62.1 in /home/neloduka_sobe/anaconda3/lib/python3.11/site-packages (from datasets->-r requirements.txt (line 2)) (4.65.0)\n",
      "Requirement already satisfied: xxhash in /home/neloduka_sobe/anaconda3/lib/python3.11/site-packages (from datasets->-r requirements.txt (line 2)) (2.0.2)\n",
      "Requirement already satisfied: multiprocess in /home/neloduka_sobe/anaconda3/lib/python3.11/site-packages (from datasets->-r requirements.txt (line 2)) (0.70.14)\n",
      "Requirement already satisfied: aiohttp in /home/neloduka_sobe/anaconda3/lib/python3.11/site-packages (from datasets->-r requirements.txt (line 2)) (3.8.5)\n",
      "Requirement already satisfied: huggingface-hub<1.0.0,>=0.11.0 in /home/neloduka_sobe/anaconda3/lib/python3.11/site-packages (from datasets->-r requirements.txt (line 2)) (0.15.1)\n",
      "Requirement already satisfied: packaging in /home/neloduka_sobe/anaconda3/lib/python3.11/site-packages (from datasets->-r requirements.txt (line 2)) (23.1)\n",
      "Requirement already satisfied: responses<0.19 in /home/neloduka_sobe/anaconda3/lib/python3.11/site-packages (from datasets->-r requirements.txt (line 2)) (0.13.3)\n",
      "Requirement already satisfied: pyyaml>=5.1 in /home/neloduka_sobe/anaconda3/lib/python3.11/site-packages (from datasets->-r requirements.txt (line 2)) (6.0)\n",
      "Requirement already satisfied: attrs>=17.3.0 in /home/neloduka_sobe/anaconda3/lib/python3.11/site-packages (from aiohttp->datasets->-r requirements.txt (line 2)) (22.1.0)\n",
      "Requirement already satisfied: charset-normalizer<4.0,>=2.0 in /home/neloduka_sobe/anaconda3/lib/python3.11/site-packages (from aiohttp->datasets->-r requirements.txt (line 2)) (2.0.4)\n",
      "Requirement already satisfied: multidict<7.0,>=4.5 in /home/neloduka_sobe/anaconda3/lib/python3.11/site-packages (from aiohttp->datasets->-r requirements.txt (line 2)) (6.0.2)\n",
      "Requirement already satisfied: async-timeout<5.0,>=4.0.0a3 in /home/neloduka_sobe/anaconda3/lib/python3.11/site-packages (from aiohttp->datasets->-r requirements.txt (line 2)) (4.0.2)\n",
      "Requirement already satisfied: yarl<2.0,>=1.0 in /home/neloduka_sobe/anaconda3/lib/python3.11/site-packages (from aiohttp->datasets->-r requirements.txt (line 2)) (1.8.1)\n",
      "Requirement already satisfied: frozenlist>=1.1.1 in /home/neloduka_sobe/anaconda3/lib/python3.11/site-packages (from aiohttp->datasets->-r requirements.txt (line 2)) (1.3.3)\n",
      "Requirement already satisfied: aiosignal>=1.1.2 in /home/neloduka_sobe/anaconda3/lib/python3.11/site-packages (from aiohttp->datasets->-r requirements.txt (line 2)) (1.2.0)\n",
      "Requirement already satisfied: idna<4,>=2.5 in /home/neloduka_sobe/anaconda3/lib/python3.11/site-packages (from requests>=2.19.0->datasets->-r requirements.txt (line 2)) (3.4)\n",
      "Requirement already satisfied: urllib3<3,>=1.21.1 in /home/neloduka_sobe/anaconda3/lib/python3.11/site-packages (from requests>=2.19.0->datasets->-r requirements.txt (line 2)) (1.26.16)\n",
      "Requirement already satisfied: certifi>=2017.4.17 in /home/neloduka_sobe/anaconda3/lib/python3.11/site-packages (from requests>=2.19.0->datasets->-r requirements.txt (line 2)) (2023.7.22)\n",
      "Requirement already satisfied: six in /home/neloduka_sobe/anaconda3/lib/python3.11/site-packages (from responses<0.19->datasets->-r requirements.txt (line 2)) (1.16.0)\n",
      "Requirement already satisfied: MarkupSafe>=2.0 in /home/neloduka_sobe/anaconda3/lib/python3.11/site-packages (from jinja2->torch->-r requirements.txt (line 1)) (2.1.1)\n",
      "Requirement already satisfied: python-dateutil>=2.8.2 in /home/neloduka_sobe/anaconda3/lib/python3.11/site-packages (from pandas->datasets->-r requirements.txt (line 2)) (2.8.2)\n",
      "Requirement already satisfied: pytz>=2020.1 in /home/neloduka_sobe/anaconda3/lib/python3.11/site-packages (from pandas->datasets->-r requirements.txt (line 2)) (2023.3.post1)\n",
      "Requirement already satisfied: tzdata>=2022.1 in /home/neloduka_sobe/anaconda3/lib/python3.11/site-packages (from pandas->datasets->-r requirements.txt (line 2)) (2023.3)\n",
      "Requirement already satisfied: mpmath>=0.19 in /home/neloduka_sobe/anaconda3/lib/python3.11/site-packages (from sympy->torch->-r requirements.txt (line 1)) (1.3.0)\n"
     ]
    },
    {
     "name": "stderr",
     "output_type": "stream",
     "text": [
      "/home/neloduka_sobe/anaconda3/lib/python3.11/site-packages/torch/cuda/__init__.py:118: UserWarning: CUDA initialization: CUDA unknown error - this may be due to an incorrectly set up environment, e.g. changing env variable CUDA_VISIBLE_DEVICES after program start. Setting the available devices to be zero. (Triggered internally at ../c10/cuda/CUDAFunctions.cpp:108.)\n",
      "  return torch._C._cuda_getDeviceCount() > 0\n"
     ]
    }
   ],
   "source": [
    "# Setup\n",
    "!pip install -r requirements.txt\n",
    "\n",
    "# Imports\n",
    "import random\n",
    "import torch\n",
    "import torch.nn as nn\n",
    "from datasets import load_dataset\n",
    "\n",
    "# Setting seeds\n",
    "seed = 1337\n",
    "random.seed(seed)\n",
    "torch.manual_seed(seed)\n",
    "torch.use_deterministic_algorithms(True)\n",
    "\n",
    "# Setting up a device\n",
    "device = torch.device(\"cuda:0\" if (torch.cuda.is_available() and ngpu > 0) else \"cpu\")"
   ]
  },
  {
   "cell_type": "markdown",
   "id": "0ee43345-eee0-4667-90e7-81d644402861",
   "metadata": {},
   "source": [
    "## Dataset"
   ]
  },
  {
   "cell_type": "markdown",
   "id": "72cc6966-a8c9-4cf4-9ced-4211d0137e93",
   "metadata": {},
   "source": [
    "### Loading the Data"
   ]
  },
  {
   "cell_type": "code",
   "execution_count": 5,
   "id": "00aec56e-33e2-4660-ba25-362c7eaa4f02",
   "metadata": {
    "tags": []
   },
   "outputs": [
    {
     "name": "stderr",
     "output_type": "stream",
     "text": [
      "Found cached dataset parquet (/home/neloduka_sobe/.cache/huggingface/datasets/Norod78___parquet/Norod78--hearthstone-cards-512-30fd2f09d7637a96/0.0.0/2a3b91fbd88a2c90d1dbbb32b460cf621d31bd5b05b934492fdef7d8d6f236ec)\n"
     ]
    },
    {
     "data": {
      "application/vnd.jupyter.widget-view+json": {
       "model_id": "c4f2773181e84af58cb550fabcd41833",
       "version_major": 2,
       "version_minor": 0
      },
      "text/plain": [
       "  0%|          | 0/1 [00:00<?, ?it/s]"
      ]
     },
     "metadata": {},
     "output_type": "display_data"
    }
   ],
   "source": [
    "dataset = load_dataset(\"Norod78/hearthstone-cards-512\")"
   ]
  },
  {
   "cell_type": "markdown",
   "id": "4353c8c4-0600-499e-ad34-0e6178683eec",
   "metadata": {},
   "source": [
    "### Preparing the Data"
   ]
  },
  {
   "cell_type": "code",
   "execution_count": 17,
   "id": "6de40341",
   "metadata": {
    "tags": []
   },
   "outputs": [],
   "source": [
    "train_images = dataset[\"train\"]['image']"
   ]
  },
  {
   "cell_type": "markdown",
   "id": "1a62c831-4f51-42cb-ad19-49414376e0ae",
   "metadata": {},
   "source": [
    "## Generator Model"
   ]
  },
  {
   "cell_type": "markdown",
   "id": "a09a472d-0a6a-4634-b596-26ff59e38ac2",
   "metadata": {},
   "source": [
    "## Discriminator Model"
   ]
  },
  {
   "cell_type": "markdown",
   "id": "35ada1dd-09b5-423e-bbc0-6d3d87cf45ed",
   "metadata": {},
   "source": [
    "## Loss and Optimizers"
   ]
  },
  {
   "cell_type": "markdown",
   "id": "77b3bc5e-11be-4d79-af09-9d94b3fef4e3",
   "metadata": {},
   "source": [
    "## Wrap-up"
   ]
  }
 ],
 "metadata": {
  "kernelspec": {
   "display_name": "Python 3 (ipykernel)",
   "language": "python",
   "name": "python3"
  },
  "language_info": {
   "codemirror_mode": {
    "name": "ipython",
    "version": 3
   },
   "file_extension": ".py",
   "mimetype": "text/x-python",
   "name": "python",
   "nbconvert_exporter": "python",
   "pygments_lexer": "ipython3",
   "version": "3.11.5"
  }
 },
 "nbformat": 4,
 "nbformat_minor": 5
}
